{
  "cells": [
    {
      "cell_type": "markdown",
      "metadata": {},
      "source": [
        "\n",
        "# Extracting signals of a probabilistic atlas of functional regions\n",
        "\n",
        "This example extracts the signal on regions defined via a probabilistic\n",
        "atlas, to construct a functional connectome.\n",
        "\n",
        "We use the [MSDL atlas](https://team.inria.fr/parietal/18-2/spatial_patterns/spatial-patterns-in-resting-state/)\n",
        "of functional regions in movie-watching.\n",
        "\n",
        "The key to extract signals is to use the\n",
        ":class:`nilearn.maskers.NiftiMapsMasker` that can transform nifti\n",
        "objects to time series using a probabilistic atlas.\n",
        "\n",
        "As the MSDL atlas comes with (x, y, z) :term:`MNI` coordinates for the\n",
        "different regions, we can visualize the matrix as a graph of\n",
        "interaction in a brain. To avoid having too dense a graph, we represent\n",
        "only the 20% edges with the highest values.\n",
        "\n",
        ".. include:: ../../../examples/masker_note.rst\n"
      ]
    },
    {
      "cell_type": "markdown",
      "metadata": {},
      "source": [
        "## Retrieve the atlas and the data\n",
        "\n"
      ]
    },
    {
      "cell_type": "code",
      "execution_count": null,
      "metadata": {
        "collapsed": false
      },
      "outputs": [],
      "source": [
        "from nilearn import datasets\n",
        "\n",
        "atlas = datasets.fetch_atlas_msdl()\n",
        "# Loading atlas image stored in 'maps'\n",
        "atlas_filename = atlas[\"maps\"]\n",
        "# Loading atlas data stored in 'labels'\n",
        "labels = atlas[\"labels\"]\n",
        "\n",
        "# Load the functional datasets\n",
        "data = datasets.fetch_development_fmri(n_subjects=1)\n",
        "\n",
        "print(\"First subject resting-state nifti image (4D) is located \" f\"at: {data.func[0]}\")\n"
      ]
    },
    {
      "cell_type": "markdown",
      "metadata": {},
      "source": [
        "## Extract the time series\n",
        "\n"
      ]
    },
    {
      "cell_type": "code",
      "execution_count": null,
      "metadata": {
        "collapsed": false
      },
      "outputs": [],
      "source": [
        "from nilearn.maskers import NiftiMapsMasker\n",
        "\n",
        "masker = NiftiMapsMasker(\n",
        "    maps_img=atlas_filename,\n",
        "    standardize=\"zscore_sample\",\n",
        "    standardize_confounds=\"zscore_sample\",\n",
        "    memory=\"nilearn_cache\",\n",
        "    verbose=5,\n",
        ")\n",
        "masker.fit(data.func[0])\n",
        "time_series = masker.transform(data.func[0], confounds=data.confounds)\n"
      ]
    },
    {
      "cell_type": "markdown",
      "metadata": {},
      "source": [
        "We can generate an HTML report and visualize the components of the\n",
        ":class:`~nilearn.maskers.NiftiMapsMasker`.\n",
        "You can pass the indices of the spatial maps you want to include in the\n",
        "report in the order you want them to appear.\n",
        "Here, we only include maps 2, 6, 7, 16, and 21 in the report:\n",
        "\n"
      ]
    },
    {
      "cell_type": "code",
      "execution_count": null,
      "metadata": {
        "collapsed": false
      },
      "outputs": [],
      "source": [
        "report = masker.generate_report(displayed_maps=[2, 6, 7, 16, 21])\n",
        "report\n"
      ]
    },
    {
      "cell_type": "markdown",
      "metadata": {},
      "source": [
        "`time_series` is now a 2D matrix, of shape (number of time points x\n",
        "number of regions)\n",
        "\n"
      ]
    },
    {
      "cell_type": "code",
      "execution_count": null,
      "metadata": {
        "collapsed": false
      },
      "outputs": [],
      "source": [
        "print(time_series.shape)\n"
      ]
    },
    {
      "cell_type": "markdown",
      "metadata": {},
      "source": [
        "## Build and display a correlation matrix\n",
        "\n"
      ]
    },
    {
      "cell_type": "code",
      "execution_count": null,
      "metadata": {
        "collapsed": false
      },
      "outputs": [],
      "source": [
        "from nilearn.connectome import ConnectivityMeasure\n",
        "\n",
        "correlation_measure = ConnectivityMeasure(\n",
        "    kind=\"correlation\",\n",
        "    standardize=\"zscore_sample\",\n",
        ")\n",
        "correlation_matrix = correlation_measure.fit_transform([time_series])[0]\n",
        "\n",
        "# Display the correlation matrix\n",
        "import numpy as np\n",
        "\n",
        "from nilearn import plotting\n",
        "\n",
        "# Mask out the major diagonal\n",
        "np.fill_diagonal(correlation_matrix, 0)\n",
        "plotting.plot_matrix(correlation_matrix, labels=labels, colorbar=True, vmax=0.8, vmin=-0.8)\n"
      ]
    },
    {
      "cell_type": "markdown",
      "metadata": {},
      "source": [
        "## And now display the corresponding graph\n",
        "\n"
      ]
    },
    {
      "cell_type": "code",
      "execution_count": null,
      "metadata": {
        "collapsed": false
      },
      "outputs": [],
      "source": [
        "from nilearn import plotting\n",
        "\n",
        "coords = atlas.region_coords\n",
        "\n",
        "# We threshold to keep only the 20% of edges with the highest value\n",
        "# because the graph is very dense\n",
        "plotting.plot_connectome(correlation_matrix, coords, edge_threshold=\"80%\", colorbar=True)\n",
        "\n",
        "plotting.show()\n"
      ]
    },
    {
      "cell_type": "markdown",
      "metadata": {},
      "source": [
        "## 3D visualization in a web browser\n",
        "An alternative to :func:`nilearn.plotting.plot_connectome` is to use\n",
        ":func:`nilearn.plotting.view_connectome` that gives more interactive\n",
        "visualizations in a web browser. See `interactive-connectome-plotting`\n",
        "for more details.\n",
        "\n"
      ]
    },
    {
      "cell_type": "code",
      "execution_count": null,
      "metadata": {
        "collapsed": false
      },
      "outputs": [],
      "source": [
        "view = plotting.view_connectome(correlation_matrix, coords, edge_threshold=\"80%\")\n",
        "\n",
        "# In a Jupyter notebook, if ``view`` is the output of a cell, it will\n",
        "# be displayed below the cell\n",
        "view\n"
      ]
    },
    {
      "cell_type": "code",
      "execution_count": null,
      "metadata": {
        "collapsed": false
      },
      "outputs": [],
      "source": [
        "# uncomment this to open the plot in a web browser:\n",
        "# view.open_in_browser()\n"
      ]
    }
  ],
  "metadata": {
    "kernelspec": {
      "display_name": "Python 3",
      "language": "python",
      "name": "python3"
    },
    "language_info": {
      "codemirror_mode": {
        "name": "ipython",
        "version": 3
      },
      "file_extension": ".py",
      "mimetype": "text/x-python",
      "name": "python",
      "nbconvert_exporter": "python",
      "pygments_lexer": "ipython3",
      "version": "3.12.0"
    }
  },
  "nbformat": 4,
  "nbformat_minor": 0
}
